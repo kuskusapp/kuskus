{
 "cells": [
  {
   "cell_type": "code",
   "execution_count": 120,
   "metadata": {},
   "outputs": [],
   "source": [
    "import random\n",
    "from collections import Counter\n",
    "from langchain_openai import ChatOpenAI\n",
    "import pandas as pd \n",
    "from fastbm25 import fastbm25\n",
    "\n",
    "from getpass import getpass\n",
    "from tqdm.notebook import tqdm\n",
    "\n",
    "import json \n",
    "\n",
    "from api.db import connect_to_database, close_connection\n",
    "from api.parsing import parse_text_from_url, parse_text_from_url_v2"
   ]
  },
  {
   "cell_type": "code",
   "execution_count": 119,
   "metadata": {},
   "outputs": [
    {
     "data": {
      "text/plain": [
       "<module 'api.parsing' from '/Users/nikitamatveev/1Progs/learn-anything.xyz/api/python/topic_suggestion/app/api/parsing.py'>"
      ]
     },
     "execution_count": 119,
     "metadata": {},
     "output_type": "execute_result"
    }
   ],
   "source": [
    "import importlib\n",
    "importlib.reload(api.parsing)"
   ]
  },
  {
   "cell_type": "code",
   "execution_count": 2,
   "metadata": {},
   "outputs": [],
   "source": [
    "def get_top_topics(client, k):\n",
    "  # extract topic names from all links \n",
    "  link_topic_ids = client.query(\"SELECT GlobalLink {url, mainTopic: {id, prettyName}} filter exists .mainTopic\")\n",
    "  link_topic_ids = [t.mainTopic.prettyName for t in link_topic_ids]\n",
    "  # get top k topics by frequency\n",
    "  top_topics = Counter(link_topic_ids).most_common(k)\n",
    "  top_topics = [t[0] for t in top_topics]\n",
    "  return top_topics\n",
    "\n",
    "def get_random_links(client, n, top_topics):\n",
    "  # extract all links\n",
    "  link_topic_ids = client.query(\"SELECT GlobalLink {url, mainTopic: {id, prettyName}} filter exists .mainTopic\")\n",
    "  # leave only links from top topics\n",
    "  link_topic_ids = [_ for _ in link_topic_ids if _.mainTopic.prettyName in top_topics]\n",
    "  # return sample of size n from given links\n",
    "  return random.sample(link_topic_ids, n)"
   ]
  },
  {
   "cell_type": "markdown",
   "metadata": {},
   "source": [
    "### Collecting top topics and sample for evaluating topic-suggestion"
   ]
  },
  {
   "cell_type": "code",
   "execution_count": 3,
   "metadata": {},
   "outputs": [],
   "source": [
    "client = connect_to_database()"
   ]
  },
  {
   "cell_type": "code",
   "execution_count": 7,
   "metadata": {},
   "outputs": [],
   "source": [
    "top_topics = get_top_topics(client, 20)\n",
    "evaluation_sample = get_random_links(client, 500, top_topics)"
   ]
  },
  {
   "cell_type": "code",
   "execution_count": 22,
   "metadata": {},
   "outputs": [],
   "source": [
    "evaluation_df = pd.DataFrame([(_.url, _.mainTopic.prettyName) for _ in evaluation_sample], columns = ['url', 'target'])"
   ]
  },
  {
   "cell_type": "markdown",
   "metadata": {},
   "source": [
    "### Generating topic descriptions"
   ]
  },
  {
   "cell_type": "code",
   "execution_count": 5,
   "metadata": {},
   "outputs": [],
   "source": [
    "instruction_prompt = \"\"\"\n",
    "I want you to act as a description generator. I will give you a topic name and your goal is to write short topic description (no longer then 100 words).\n",
    "Description must be understandable. Also you have to use specific words for this topic.\n",
    "\n",
    "Your output is description and nothing more.\n",
    "Use keywords related to topic.\n",
    "Description must be no longer then 100 words.\n",
    "\"\"\".strip().replace('\\n', ' ')\n",
    "\n",
    "token = getpass()\n",
    "model = ChatOpenAI(model=\"gpt-3.5-turbo-0125\", \n",
    "                   temperature=0, \n",
    "                   api_key=token)"
   ]
  },
  {
   "cell_type": "code",
   "execution_count": null,
   "metadata": {},
   "outputs": [],
   "source": [
    "topic_descriptions = {}\n",
    "for topic_name in tqdm(top_topics):\n",
    "  messages = [\n",
    "    (\"system\", instruction_prompt.strip()),\n",
    "    (\"human\", f\"Topic_name: {topic_name}\"),\n",
    "  ]\n",
    "  description = model.invoke(messages).content\n",
    "  topic_descriptions[topic_name] = description\n",
    "  \n",
    "  print(topic_name, 'processed')"
   ]
  },
  {
   "cell_type": "code",
   "execution_count": 9,
   "metadata": {},
   "outputs": [],
   "source": [
    "with open('./topic_descriptions_test.json', 'w') as json_file:\n",
    "    json.dump(topic_descriptions, json_file)"
   ]
  },
  {
   "cell_type": "markdown",
   "metadata": {},
   "source": [
    "### Evaluating topic-suggestion"
   ]
  },
  {
   "cell_type": "code",
   "execution_count": 40,
   "metadata": {},
   "outputs": [],
   "source": [
    "labels = [key for key in topic_descriptions.keys()]\n",
    "corpus = [val for val in topic_descriptions.values()]\n",
    "\n",
    "tokenized_corpus = [doc.lower().split(\" \") for doc in corpus]\n",
    "model = fastbm25(tokenized_corpus)\n",
    "\n",
    "def predict(x):\n",
    "  bm_pred = model.top_k_sentence(parse_text_from_url(x), 1)\n",
    "  if bm_pred:\n",
    "    return labels[bm_pred[0][1]]\n",
    "  return ''\n"
   ]
  },
  {
   "cell_type": "code",
   "execution_count": 123,
   "metadata": {},
   "outputs": [],
   "source": [
    "def predict(x):\n",
    "  bm_pred = model.top_k_sentence(parse_text_from_url(x), 1)\n",
    "  if bm_pred:\n",
    "    return labels[bm_pred[0][1]]\n",
    "  return ''\n",
    "\n",
    "def predict2(x):\n",
    "  bm_pred = model.top_k_sentence(parse_text_from_url_v2(x), 1)\n",
    "  if bm_pred:\n",
    "    return labels[bm_pred[0][1]]\n",
    "  return ''"
   ]
  },
  {
   "cell_type": "code",
   "execution_count": 124,
   "metadata": {},
   "outputs": [],
   "source": [
    "evaluation_df_sample = evaluation_df.head(100)"
   ]
  },
  {
   "cell_type": "code",
   "execution_count": 127,
   "metadata": {},
   "outputs": [
    {
     "name": "stderr",
     "output_type": "stream",
     "text": [
      "/var/folders/gl/3_7wvvp97cs9hd5cn0qff54r0000gn/T/ipykernel_33433/4098700878.py:1: SettingWithCopyWarning: \n",
      "A value is trying to be set on a copy of a slice from a DataFrame.\n",
      "Try using .loc[row_indexer,col_indexer] = value instead\n",
      "\n",
      "See the caveats in the documentation: https://pandas.pydata.org/pandas-docs/stable/user_guide/indexing.html#returning-a-view-versus-a-copy\n",
      "  evaluation_df_sample['pred'] = evaluation_df_sample.url.apply(lambda x: predict(x))\n"
     ]
    }
   ],
   "source": [
    "evaluation_df_sample['pred'] = evaluation_df_sample.url.apply(lambda x: predict(x))"
   ]
  },
  {
   "cell_type": "code",
   "execution_count": 129,
   "metadata": {},
   "outputs": [
    {
     "name": "stdout",
     "output_type": "stream",
     "text": [
      "Error occurred while parsing URL: 400 Client Error: Bad Request for url: https://twitter.com/thomasg_eth/status/1492663192404779013\n",
      "Error occurred while parsing URL: 404 Client Error: Not Found for url: https://media.defense.gov/2021/Aug/03/2002820425/-1/-1/1/CTR_KUBERNETES%20HARDENING%20GUIDANCE.PDF\n",
      "Error occurred while parsing URL: 403 Client Error: Forbidden for url: http://superfastpython.com/python-asyncio\n"
     ]
    },
    {
     "name": "stderr",
     "output_type": "stream",
     "text": [
      "/var/folders/gl/3_7wvvp97cs9hd5cn0qff54r0000gn/T/ipykernel_33433/605272677.py:1: SettingWithCopyWarning: \n",
      "A value is trying to be set on a copy of a slice from a DataFrame.\n",
      "Try using .loc[row_indexer,col_indexer] = value instead\n",
      "\n",
      "See the caveats in the documentation: https://pandas.pydata.org/pandas-docs/stable/user_guide/indexing.html#returning-a-view-versus-a-copy\n",
      "  evaluation_df_sample['pred2'] = evaluation_df_sample.url.apply(lambda x: predict2(x))\n"
     ]
    }
   ],
   "source": [
    "evaluation_df_sample['pred2'] = evaluation_df_sample.url.apply(lambda x: predict2(x))"
   ]
  },
  {
   "cell_type": "code",
   "execution_count": 136,
   "metadata": {},
   "outputs": [
    {
     "name": "stdout",
     "output_type": "stream",
     "text": [
      "\n",
      "Top1 suggested topic is correct in 19 from 100 cases for baseline solution.\n",
      "Top1 suggested topic is correct in 39 from 100 cases for solution that uses parsed text from link.\n",
      "\n"
     ]
    }
   ],
   "source": [
    "print(f\"\"\"\n",
    "Top1 suggested topic is correct in {sum(evaluation_df_sample['target'] == evaluation_df_sample['pred'])} from 100 cases for baseline solution.\n",
    "Top1 suggested topic is correct in {sum(evaluation_df_sample['target'] == evaluation_df_sample['pred2'])} from 100 cases for solution that uses parsed text from link.\n",
    "\"\"\")"
   ]
  },
  {
   "cell_type": "markdown",
   "metadata": {},
   "source": [
    "todo:\n",
    "- improve accuracy\n",
    "- calculate accuracy via top3\n",
    "- create prediction on case when bm25 outputs nothing"
   ]
  }
 ],
 "metadata": {
  "kernelspec": {
   "display_name": "base",
   "language": "python",
   "name": "python3"
  },
  "language_info": {
   "codemirror_mode": {
    "name": "ipython",
    "version": 3
   },
   "file_extension": ".py",
   "mimetype": "text/x-python",
   "name": "python",
   "nbconvert_exporter": "python",
   "pygments_lexer": "ipython3",
   "version": "3.9.12"
  },
  "orig_nbformat": 4
 },
 "nbformat": 4,
 "nbformat_minor": 2
}
